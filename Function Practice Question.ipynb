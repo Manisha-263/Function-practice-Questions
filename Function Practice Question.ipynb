{
 "cells": [
  {
   "cell_type": "markdown",
   "id": "513334d7-52a6-4dcc-b371-6ac6e4df7f5a",
   "metadata": {},
   "source": [
    "\" Function Practice Question \""
   ]
  },
  {
   "cell_type": "code",
   "execution_count": 3,
   "id": "76ce1414-99f5-4868-a4bc-3046ae7bde50",
   "metadata": {},
   "outputs": [
    {
     "name": "stdout",
     "output_type": "stream",
     "text": [
      " hello Manisha!,the current time is 18:41:39\n"
     ]
    }
   ],
   "source": [
    "# practice exercise of function \n",
    "# Q:1 simple function \n",
    "import datetime\n",
    "def greet_with_time(name):\n",
    "    current_time = datetime.datetime.now().strftime(\"%H:%M:%S\")\n",
    "    print(f\" hello {name}!,the current time is {current_time}\")\n",
    "greet_with_time(\"Manisha\")\n"
   ]
  },
  {
   "cell_type": "code",
   "execution_count": 5,
   "id": "12ca2b76-5e50-45bf-b210-684bd169bdbe",
   "metadata": {},
   "outputs": [
    {
     "name": "stdout",
     "output_type": "stream",
     "text": [
      "33.333333333333336\n"
     ]
    }
   ],
   "source": [
    "# Q:2 Function with Multiple parameters  \n",
    "def calculate_avgerage(num1, num2, num3):\n",
    "    average = (num1+ num2+ num3)/3\n",
    "    return average\n",
    "result = calculate_avgerage(20, 30, 50)\n",
    "print(result)"
   ]
  },
  {
   "cell_type": "code",
   "execution_count": 7,
   "id": "1fb3ef07-e9ca-4a57-8c32-ec22ee3cc482",
   "metadata": {},
   "outputs": [
    {
     "name": "stdout",
     "output_type": "stream",
     "text": [
      "45.0\n"
     ]
    }
   ],
   "source": [
    "# Q:3 Default Argument \n",
    "def calculate_discount(price, discount = 10):\n",
    "    discount =  price - (price * discount / 100)\n",
    "    return discount\n",
    "price = calculate_discount(50)\n",
    "print(price)"
   ]
  },
  {
   "cell_type": "code",
   "execution_count": 9,
   "id": "0bbf7ea2-e2e7-4252-9457-d4463913ecba",
   "metadata": {},
   "outputs": [
    {
     "name": "stdout",
     "output_type": "stream",
     "text": [
      "Name: Manisha, Age: 19, City: Lahore\n"
     ]
    }
   ],
   "source": [
    "# Q:4 Keyword Argument  \n",
    "def print_info(name, age, city):\n",
    "    return (f\"Name: {name}, Age: {age}, City: {city}\") \n",
    "result = print_info('Manisha', 19, 'Lahore')\n",
    "print(result)"
   ]
  },
  {
   "cell_type": "code",
   "execution_count": 11,
   "id": "85a6d057-9512-4ae5-9242-151d908a69fe",
   "metadata": {},
   "outputs": [
    {
     "name": "stdout",
     "output_type": "stream",
     "text": [
      "8\n"
     ]
    }
   ],
   "source": [
    "# Q:5 Variable-length Argument \n",
    "def find_max(*args):\n",
    "    return max(args)\n",
    "print(find_max(3, 5, 7, 6, 8))"
   ]
  },
  {
   "cell_type": "code",
   "execution_count": 13,
   "id": "092ecded-1fa9-4d94-9ef7-432a6327e520",
   "metadata": {},
   "outputs": [
    {
     "name": "stdout",
     "output_type": "stream",
     "text": [
      "120\n"
     ]
    }
   ],
   "source": [
    "# Q:6 Recursive Function \n",
    "def factorial(n):\n",
    "    if n == 0 or n ==1:\n",
    "        return 1\n",
    "    return n * factorial(n - 1)\n",
    "print(factorial(5))"
   ]
  },
  {
   "cell_type": "code",
   "execution_count": 15,
   "id": "9381f963-5e9c-4061-a598-6ba07a524ee1",
   "metadata": {},
   "outputs": [
    {
     "name": "stdout",
     "output_type": "stream",
     "text": [
      "[2, 4, 6, 8]\n"
     ]
    }
   ],
   "source": [
    "# Q:7 Function as an Argument \n",
    "def apply_function(func, numbers):\n",
    "    return [func(num) for num in numbers]\n",
    "numbers = [1, 2, 3, 4]\n",
    "result = apply_function(lambda x: x * 2, numbers)  \n",
    "print(result)  \n"
   ]
  },
  {
   "cell_type": "code",
   "execution_count": 17,
   "id": "590e08a9-dc52-41eb-98ab-c3e738e8824a",
   "metadata": {},
   "outputs": [
    {
     "name": "stdout",
     "output_type": "stream",
     "text": [
      "16\n"
     ]
    }
   ],
   "source": [
    "# Q:8 Lambda Functions: Square Function\n",
    "square = lambda x: x ** 2\n",
    "\n",
    "# Example usage:\n",
    "print(square(4))  "
   ]
  },
  {
   "cell_type": "code",
   "execution_count": 19,
   "id": "b69e5828-14cc-45df-b03d-f572c2acce49",
   "metadata": {},
   "outputs": [
    {
     "name": "stdout",
     "output_type": "stream",
     "text": [
      "[2, 3, 4, 5]\n"
     ]
    }
   ],
   "source": [
    " #Q:9 Higher-Order Functions: apply_operation\n",
    "def apply_operation(func, numbers):\n",
    "    return [func(num) for num in numbers]\n",
    "numbers = [1, 2, 3, 4]\n",
    "result = apply_operation(lambda x: x + 1, numbers)   \n",
    "print(result)  "
   ]
  },
  {
   "cell_type": "code",
   "execution_count": 21,
   "id": "a0f3cea4-c35f-48be-8711-58fea5c8b5ee",
   "metadata": {},
   "outputs": [
    {
     "name": "stdout",
     "output_type": "stream",
     "text": [
      "Execution time: 2.0066866874694824 seconds\n",
      "Function completed\n"
     ]
    }
   ],
   "source": [
    "# Q:10 Function decorater\n",
    "import time\n",
    "\n",
    "def execution_time_decorator(func):\n",
    "    def wrapper(*args, **kwargs):\n",
    "        start_time = time.time()\n",
    "        result = func(*args, **kwargs)\n",
    "        end_time = time.time()\n",
    "        print(f\"Execution time: {end_time - start_time} seconds\")\n",
    "        return result\n",
    "    return wrapper\n",
    "\n",
    "# Example usage:\n",
    "@execution_time_decorator\n",
    "def slow_function():\n",
    "    time.sleep(2)  # Simulating a slow function with a 2-second delay\n",
    "    return \"Function completed\"\n",
    "\n",
    "print(slow_function())  # It will print the execution time after the function completes"
   ]
  },
  {
   "cell_type": "code",
   "execution_count": null,
   "id": "54e0af6e-0505-468e-8827-209e2b17297c",
   "metadata": {},
   "outputs": [],
   "source": []
  }
 ],
 "metadata": {
  "kernelspec": {
   "display_name": "Python 3 (ipykernel)",
   "language": "python",
   "name": "python3"
  },
  "language_info": {
   "codemirror_mode": {
    "name": "ipython",
    "version": 3
   },
   "file_extension": ".py",
   "mimetype": "text/x-python",
   "name": "python",
   "nbconvert_exporter": "python",
   "pygments_lexer": "ipython3",
   "version": "3.12.4"
  }
 },
 "nbformat": 4,
 "nbformat_minor": 5
}
